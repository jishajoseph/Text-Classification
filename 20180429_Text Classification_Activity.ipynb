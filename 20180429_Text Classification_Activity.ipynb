{
 "cells": [
  {
   "cell_type": "code",
   "execution_count": 1,
   "metadata": {
    "collapsed": true
   },
   "outputs": [],
   "source": [
    "import numpy as np\n",
    "import pandas as pd\n",
    "import os\n",
    "import re\n",
    "#os.getcwd()"
   ]
  },
  {
   "cell_type": "code",
   "execution_count": 2,
   "metadata": {},
   "outputs": [
    {
     "data": {
      "text/html": [
       "<div>\n",
       "<style>\n",
       "    .dataframe thead tr:only-child th {\n",
       "        text-align: right;\n",
       "    }\n",
       "\n",
       "    .dataframe thead th {\n",
       "        text-align: left;\n",
       "    }\n",
       "\n",
       "    .dataframe tbody tr th {\n",
       "        vertical-align: top;\n",
       "    }\n",
       "</style>\n",
       "<table border=\"1\" class=\"dataframe\">\n",
       "  <thead>\n",
       "    <tr style=\"text-align: right;\">\n",
       "      <th></th>\n",
       "      <th>Type</th>\n",
       "      <th>Text</th>\n",
       "    </tr>\n",
       "  </thead>\n",
       "  <tbody>\n",
       "    <tr>\n",
       "      <th>0</th>\n",
       "      <td>ham</td>\n",
       "      <td>Ok lar... Joking wif u oni...</td>\n",
       "    </tr>\n",
       "    <tr>\n",
       "      <th>1</th>\n",
       "      <td>spam</td>\n",
       "      <td>Free entry in 2 a wkly comp to win FA Cup fina...</td>\n",
       "    </tr>\n",
       "    <tr>\n",
       "      <th>2</th>\n",
       "      <td>ham</td>\n",
       "      <td>U dun say so early hor... U c already then say...</td>\n",
       "    </tr>\n",
       "    <tr>\n",
       "      <th>3</th>\n",
       "      <td>ham</td>\n",
       "      <td>Nah I don't think he goes to usf, he lives aro...</td>\n",
       "    </tr>\n",
       "    <tr>\n",
       "      <th>4</th>\n",
       "      <td>spam</td>\n",
       "      <td>FreeMsg Hey there darling it's been 3 week's n...</td>\n",
       "    </tr>\n",
       "  </tbody>\n",
       "</table>\n",
       "</div>"
      ],
      "text/plain": [
       "   Type                                               Text\n",
       "0   ham                      Ok lar... Joking wif u oni...\n",
       "1  spam  Free entry in 2 a wkly comp to win FA Cup fina...\n",
       "2   ham  U dun say so early hor... U c already then say...\n",
       "3   ham  Nah I don't think he goes to usf, he lives aro...\n",
       "4  spam  FreeMsg Hey there darling it's been 3 week's n..."
      ]
     },
     "execution_count": 2,
     "metadata": {},
     "output_type": "execute_result"
    }
   ],
   "source": [
    "data=pd.read_csv(\"SMSSpamCollection.csv\",delimiter=\"\\t\") #Reading data\n",
    "data.columns=['Type','Text'] #Changing Column names \n",
    "type(data) #Type is a data frame\n",
    "data.head(5) #Displays first five records"
   ]
  },
  {
   "cell_type": "code",
   "execution_count": 3,
   "metadata": {
    "collapsed": true
   },
   "outputs": [],
   "source": [
    "Text_data = data['Text']\n",
    "#print(Text_data)\n"
   ]
  },
  {
   "cell_type": "code",
   "execution_count": 4,
   "metadata": {
    "collapsed": true
   },
   "outputs": [],
   "source": [
    "Text_data1 = Text_data.tolist()\n",
    "#Some text preprocessing- Removing extra spaces and numbers\n",
    "for i in range(len(Text_data1)):\n",
    "    Text_data1[i]=re.sub(r'\\s+', ' ', Text_data1[i]) #Removing white spaces in the sentence\n",
    "    Text_data1[i]=re.sub('[\\d]', '',Text_data1[i]) #Removing numbers\n",
    "\n",
    "\n"
   ]
  },
  {
   "cell_type": "markdown",
   "metadata": {},
   "source": [
    "check out below links to know more about Regular expressions:\n",
    "\n",
    "https://en.wikipedia.org/wiki/Regular_expression\n",
    "\n",
    "https://docs.python.org/3/library/re.html"
   ]
  },
  {
   "cell_type": "code",
   "execution_count": 5,
   "metadata": {
    "collapsed": true
   },
   "outputs": [],
   "source": [
    "from sklearn.feature_extraction.text import CountVectorizer,TfidfVectorizer\n",
    "#count=CountVectorizer(strip_accents='unicode',ngram_range=(1,1),stop_words='english')\n",
    "#tfreq=count.fit_transform(Text_data1)\n",
    "#Dense_mat=tfreq.todense()\n",
    "#A=pd.DataFrame(Dense_mat,columns=count.get_feature_names())"
   ]
  },
  {
   "cell_type": "code",
   "execution_count": 6,
   "metadata": {},
   "outputs": [
    {
     "data": {
      "text/plain": [
       "(5571, 7551)"
      ]
     },
     "execution_count": 6,
     "metadata": {},
     "output_type": "execute_result"
    }
   ],
   "source": [
    "#Lets consider TF-idf\n",
    "tfidf_transformer = TfidfVectorizer(ngram_range=(1,1),stop_words='english')\n",
    "X_train_tfidf = tfidf_transformer.fit_transform(Text_data1)\n",
    "X_train_tfidf.shape\n",
    "Dense_mat=X_train_tfidf.todense()\n",
    "A=pd.DataFrame(Dense_mat,columns=tfidf_transformer.get_feature_names())\n",
    "\n",
    "A.shape"
   ]
  },
  {
   "cell_type": "code",
   "execution_count": 27,
   "metadata": {},
   "outputs": [
    {
     "name": "stdout",
     "output_type": "stream",
     "text": [
      "ham     4824\n",
      "spam     747\n",
      "Name: Type, dtype: int64\n"
     ]
    }
   ],
   "source": [
    "from sklearn.naive_bayes import MultinomialNB\n",
    "clf = MultinomialNB().fit(X_train_tfidf, data['Type'])\n",
    "pred=clf.predict(X_train_tfidf)\n",
    "print (data[\"Type\"].value_counts())\n",
    "from sklearn.metrics import confusion_matrix\n",
    "prediction=confusion_matrix(data['Type'],pred)"
   ]
  },
  {
   "cell_type": "code",
   "execution_count": 29,
   "metadata": {
    "collapsed": true
   },
   "outputs": [],
   "source": [
    "#Metrics\n",
    "from sklearn.metrics import recall_score, precision_score, accuracy_score\n",
    "acc=accuracy_score(data['Type'],pred)\n",
    "rec=recall_score(data['Type'],pred,pos_label='spam')\n",
    "prec=precision_score(data['Type'],pred,pos_label='spam')\n"
   ]
  },
  {
   "cell_type": "code",
   "execution_count": 44,
   "metadata": {},
   "outputs": [
    {
     "name": "stdout",
     "output_type": "stream",
     "text": [
      "accuracy=  0.9816908993\n",
      "recall=  0.863453815261\n",
      "precision=  1.0\n",
      "[[4824    0]\n",
      " [ 102  645]]\n"
     ]
    }
   ],
   "source": [
    "print (\"accuracy= \", str(acc))\n",
    "print (\"recall= \",str(rec))\n",
    "#print (\"precision= \",str(prec))\n",
    "print (\"precision= \",str(prec))\n",
    "print (confusion_matrix(data['Type'],pred))"
   ]
  },
  {
   "cell_type": "code",
   "execution_count": 46,
   "metadata": {},
   "outputs": [
    {
     "name": "stdout",
     "output_type": "stream",
     "text": [
      "['ham' 'spam' 'ham' ..., 'ham' 'ham' 'ham']\n"
     ]
    }
   ],
   "source": [
    "#Logistic regression in sklearn\n",
    "from sklearn import linear_model\n",
    "logreg = linear_model.LogisticRegression()\n",
    "clf_lr=logreg.fit(X_train_tfidf, data['Type'])\n",
    "pred_lr=clf_lr.predict(X_train_tfidf)\n",
    "print (pred_lr)\n",
    "rec_lr=recall_score(data['Type'],pred_lr,pos_label='spam')"
   ]
  },
  {
   "cell_type": "markdown",
   "metadata": {},
   "source": [
    "#Perform the train test split on the data and then build the model"
   ]
  },
  {
   "cell_type": "code",
   "execution_count": 47,
   "metadata": {},
   "outputs": [],
   "source": [
    "from sklearn.cross_validation import train_test_split"
   ]
  },
  {
   "cell_type": "code",
   "execution_count": 48,
   "metadata": {
    "collapsed": true
   },
   "outputs": [],
   "source": [
    "X_train, X_test, y_train, y_test=train_test_split(Dense_mat,data['Type'],test_size=0.3,random_state=1234)"
   ]
  },
  {
   "cell_type": "code",
   "execution_count": 49,
   "metadata": {},
   "outputs": [
    {
     "data": {
      "text/plain": [
       "(3899, 7551)"
      ]
     },
     "execution_count": 49,
     "metadata": {},
     "output_type": "execute_result"
    }
   ],
   "source": [
    "X_train.shape"
   ]
  },
  {
   "cell_type": "code",
   "execution_count": 50,
   "metadata": {},
   "outputs": [
    {
     "data": {
      "text/plain": [
       "matrix([[ 0.,  0.,  0., ...,  0.,  0.,  0.],\n",
       "        [ 0.,  0.,  0., ...,  0.,  0.,  0.],\n",
       "        [ 0.,  0.,  0., ...,  0.,  0.,  0.],\n",
       "        ..., \n",
       "        [ 0.,  0.,  0., ...,  0.,  0.,  0.],\n",
       "        [ 0.,  0.,  0., ...,  0.,  0.,  0.],\n",
       "        [ 0.,  0.,  0., ...,  0.,  0.,  0.]])"
      ]
     },
     "execution_count": 50,
     "metadata": {},
     "output_type": "execute_result"
    }
   ],
   "source": [
    "X_train"
   ]
  },
  {
   "cell_type": "code",
   "execution_count": 51,
   "metadata": {},
   "outputs": [
    {
     "data": {
      "text/plain": [
       "(1672, 7551)"
      ]
     },
     "execution_count": 51,
     "metadata": {},
     "output_type": "execute_result"
    }
   ],
   "source": [
    "X_test.shape"
   ]
  },
  {
   "cell_type": "code",
   "execution_count": 52,
   "metadata": {},
   "outputs": [
    {
     "data": {
      "text/plain": [
       "5436     ham\n",
       "3049     ham\n",
       "1292     ham\n",
       "2657     ham\n",
       "3221    spam\n",
       "2593     ham\n",
       "1760     ham\n",
       "1045     ham\n",
       "2197     ham\n",
       "768      ham\n",
       "726      ham\n",
       "698      ham\n",
       "2660     ham\n",
       "646      ham\n",
       "4673     ham\n",
       "2571     ham\n",
       "618      ham\n",
       "4214     ham\n",
       "3242     ham\n",
       "1477     ham\n",
       "98       ham\n",
       "5219     ham\n",
       "79       ham\n",
       "839     spam\n",
       "5097    spam\n",
       "643      ham\n",
       "374     spam\n",
       "3604     ham\n",
       "4238     ham\n",
       "3484     ham\n",
       "        ... \n",
       "1282     ham\n",
       "3        ham\n",
       "2384     ham\n",
       "3915     ham\n",
       "4841     ham\n",
       "2791     ham\n",
       "5315     ham\n",
       "1530     ham\n",
       "4006     ham\n",
       "5196     ham\n",
       "3824     ham\n",
       "3503     ham\n",
       "2558     ham\n",
       "246      ham\n",
       "2431     ham\n",
       "969      ham\n",
       "3408    spam\n",
       "3397     ham\n",
       "2168     ham\n",
       "2490     ham\n",
       "5494     ham\n",
       "1182     ham\n",
       "30       ham\n",
       "1257     ham\n",
       "279      ham\n",
       "664      ham\n",
       "3276     ham\n",
       "1318     ham\n",
       "723      ham\n",
       "2863     ham\n",
       "Name: Type, Length: 3899, dtype: object"
      ]
     },
     "execution_count": 52,
     "metadata": {},
     "output_type": "execute_result"
    }
   ],
   "source": [
    "y_train"
   ]
  },
  {
   "cell_type": "code",
   "execution_count": 53,
   "metadata": {},
   "outputs": [
    {
     "data": {
      "text/plain": [
       "ham     3378\n",
       "spam     521\n",
       "Name: Type, dtype: int64"
      ]
     },
     "execution_count": 53,
     "metadata": {},
     "output_type": "execute_result"
    }
   ],
   "source": [
    "y_train.value_counts()"
   ]
  },
  {
   "cell_type": "code",
   "execution_count": 54,
   "metadata": {},
   "outputs": [
    {
     "data": {
      "text/plain": [
       "ham     1446\n",
       "spam     226\n",
       "Name: Type, dtype: int64"
      ]
     },
     "execution_count": 54,
     "metadata": {},
     "output_type": "execute_result"
    }
   ],
   "source": [
    "y_test.value_counts()"
   ]
  },
  {
   "cell_type": "code",
   "execution_count": 55,
   "metadata": {},
   "outputs": [
    {
     "name": "stdout",
     "output_type": "stream",
     "text": [
      "[[3374    4]\n",
      " [ 127  394]]\n",
      "[[1443    3]\n",
      " [  83  143]]\n"
     ]
    }
   ],
   "source": [
    "from sklearn import linear_model\n",
    "from sklearn.metrics import confusion_matrix\n",
    "logreg_train = linear_model.LogisticRegression()\n",
    "clf_lr=logreg_train.fit(X_train, y_train)\n",
    "pred_lr_test=clf_lr.predict(X_test)\n",
    "pred_lr_train=clf_lr.predict(X_train)\n",
    "rec_lr_train=recall_score(y_train,pred_lr_train,pos_label='spam')\n",
    "rec_lr_test=recall_score(y_test,pred_lr_test,pos_label='spam')\n",
    "\n",
    "print (confusion_matrix(y_train,pred_lr_train))\n",
    "print (confusion_matrix(y_test,pred_lr_test))"
   ]
  },
  {
   "cell_type": "code",
   "execution_count": 56,
   "metadata": {
    "collapsed": true
   },
   "outputs": [],
   "source": [
    "from sklearn.naive_bayes import MultinomialNB\n",
    "clf_train = MultinomialNB().fit(X_train, y_train)\n",
    "pred=clf_train.predict(X_test)\n",
    "prediction=confusion_matrix(y_test,pred)"
   ]
  },
  {
   "cell_type": "code",
   "execution_count": 57,
   "metadata": {},
   "outputs": [
    {
     "data": {
      "text/plain": [
       "array([[1446,    0],\n",
       "       [  57,  169]], dtype=int64)"
      ]
     },
     "execution_count": 57,
     "metadata": {},
     "output_type": "execute_result"
    }
   ],
   "source": [
    "prediction"
   ]
  },
  {
   "cell_type": "code",
   "execution_count": null,
   "metadata": {
    "collapsed": true
   },
   "outputs": [],
   "source": []
  }
 ],
 "metadata": {
  "anaconda-cloud": {},
  "kernelspec": {
   "display_name": "Python 3",
   "language": "python",
   "name": "python3"
  },
  "language_info": {
   "codemirror_mode": {
    "name": "ipython",
    "version": 3
   },
   "file_extension": ".py",
   "mimetype": "text/x-python",
   "name": "python",
   "nbconvert_exporter": "python",
   "pygments_lexer": "ipython3",
   "version": "3.6.3"
  }
 },
 "nbformat": 4,
 "nbformat_minor": 1
}
